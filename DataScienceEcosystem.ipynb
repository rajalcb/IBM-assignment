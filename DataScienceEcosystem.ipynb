{
 "cells": [
  {
   "cell_type": "markdown",
   "id": "79758d2e-b982-4a5e-8306-fb08412bc293",
   "metadata": {},
   "source": [
    "# Data Science Tools and Ecosystem"
   ]
  },
  {
   "cell_type": "markdown",
   "id": "f1d79c4e-a7ad-4cfa-b3c1-2eb3060c2769",
   "metadata": {},
   "source": [
    "In this notebook, Data Science Tools and Ecosystem are summarized."
   ]
  },
  {
   "cell_type": "markdown",
   "id": "7410a3ed-682c-4044-b855-521f6f2383da",
   "metadata": {},
   "source": [
    "**Objectives:** \n",
    "- List popular languages for Data Science\n",
    "- Some of the commonly used libraries used by Data Scientists\n",
    "- Data science tools"
   ]
  },
  {
   "cell_type": "markdown",
   "id": "2c39b373-c740-481e-ae37-066d5f28e402",
   "metadata": {},
   "source": [
    "# Some of the popular languages that Data Scientists use are:\n",
    "1. R\n",
    "2. Python\n",
    "3. java"
   ]
  },
  {
   "cell_type": "markdown",
   "id": "d7f28f47-9ecf-4e99-82f3-fb4c019c360f",
   "metadata": {},
   "source": [
    "Some of the commonly used libraries used by Data Scientists include:\n",
    "1. NumPy\n",
    "2. Pandas\n",
    "3. Matplotlib"
   ]
  },
  {
   "cell_type": "markdown",
   "id": "26cf2abd-0683-4f57-aa6c-fef4e96fbb83",
   "metadata": {},
   "source": [
    "|Data Science Tools|\n",
    "|------------------|\n",
    "|Apache Spark|\n",
    "|Apache Hadoop|\n",
    "|TensorFlow|"
   ]
  },
  {
   "cell_type": "markdown",
   "id": "8d62259e-8a78-458e-8798-f266aa015b5a",
   "metadata": {},
   "source": [
    "### Below are a few examples of evaluating arithmetic expressions in Python"
   ]
  },
  {
   "cell_type": "code",
   "execution_count": 1,
   "id": "54150030-27ea-40aa-ad0c-3c141d67116b",
   "metadata": {},
   "outputs": [
    {
     "name": "stdout",
     "output_type": "stream",
     "text": [
      "17\n"
     ]
    }
   ],
   "source": [
    "# This a simple arithmetic expression to mutiply then add integers\n",
    "print( (3*4)+5 )"
   ]
  },
  {
   "cell_type": "code",
   "execution_count": 2,
   "id": "7e016d91-9fe0-423c-bf7c-d502deab5b30",
   "metadata": {},
   "outputs": [
    {
     "name": "stdout",
     "output_type": "stream",
     "text": [
      "3.3333333333333335\n"
     ]
    }
   ],
   "source": [
    "#  This will convert 200 minutes to hours by diving by 60\n",
    "print( 200/60 )"
   ]
  },
  {
   "cell_type": "markdown",
   "id": "19d9767d-f022-411b-b1cd-e866fbc4f2ad",
   "metadata": {},
   "source": [
    "## Author\n",
    "Rajal Borad"
   ]
  },
  {
   "cell_type": "code",
   "execution_count": null,
   "id": "0d6d6a1a-ff5e-4d87-9976-681f25bfca47",
   "metadata": {},
   "outputs": [],
   "source": []
  }
 ],
 "metadata": {
  "kernelspec": {
   "display_name": "Python 3 (ipykernel)",
   "language": "python",
   "name": "python3"
  },
  "language_info": {
   "codemirror_mode": {
    "name": "ipython",
    "version": 3
   },
   "file_extension": ".py",
   "mimetype": "text/x-python",
   "name": "python",
   "nbconvert_exporter": "python",
   "pygments_lexer": "ipython3",
   "version": "3.11.7"
  }
 },
 "nbformat": 4,
 "nbformat_minor": 5
}
